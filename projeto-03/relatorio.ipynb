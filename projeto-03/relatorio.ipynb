{
 "cells": [
  {
   "cell_type": "markdown",
   "metadata": {},
   "source": [
    "## Projeto 3- Traveling salesman em gpu - Paulo Tozzo"
   ]
  },
  {
   "cell_type": "markdown",
   "metadata": {},
   "source": [
    "## O Problema\n",
    "\n",
    "O problema do caixeiro-viajante é um problema comum na área de logísticas, ele é basicamente: dado n pontos qual é o menor caminho que percorra todos esses pontos?. Esse problema é classificado como NP-completo, sua solução é custosa em relação ao tempo,j assim uma solução (2-opt) foi implementado usando uma gpu para realização de cálculos, esse implementação foi comparada com uma versão paralelizada  e também com uma versão que chuta respostas, essa também usa a gpu para realizar os cálculos."
   ]
  },
  {
   "cell_type": "code",
   "execution_count": 1,
   "metadata": {},
   "outputs": [],
   "source": [
    "import sys\n",
    "import subprocess\n",
    "from subprocess import PIPE\n",
    "import numpy as np\n",
    "import matplotlib.pyplot as plt"
   ]
  },
  {
   "cell_type": "markdown",
   "metadata": {},
   "source": [
    "## Organização do codigo\n",
    "O algoritmo no geral é simples, ele usa um kernel cuda para pré-calcular todas as distâncias possíveis e depois usa outro kernel em cuda que foi implementado o 2-opt, esse cria caminhos randomicamente , e depois mudam a sequência dos pontos até não ter melhora no custo total, o algoritmo randômico só faz a primeira parte do 2-opt ou seja só randomiza a lista."
   ]
  },
  {
   "cell_type": "markdown",
   "metadata": {},
   "source": [
    "## Descrição dos testes\n",
    "Foi realizado  testes 3 de desempenho, comparado a solução em gpu e a paralela vendo também o tempo que a gpu gasta realmente calculando a solução vs o tempo que ela gasta de overhead. Para medir o tempo foi usado `std::chrono::high_resolution_clock` para o algoritmo em paralelo e evento e `cudaEvent` para o codigo cuda.Para diminuir a variação de tempo os testes os testes foram executados múltiplas vezes e foi feita a média. O computador que executou os testes têm como hardware relevante:\n",
    "processador i7-8550U CPU @ 1.80GHz.\n",
    "GeForce MX150.\n",
    "\n",
    "Deve ser notado também que apesar que simplesmente gerar sequências aleatórias é mais rápido que calcular o 2-opt, porem esse gera solução muito melhores, principalmente para números grandes. Os dois 2-opt (em paralelo e em gpu) tem resultados semelhantes, só não são iguais porque a maneira que os números aleatórios são gerados é diferente.\n",
    "\n",
    "É esperado que os arquivos compilados estajam em uma pasta chamada build.\n"
   ]
  },
  {
   "cell_type": "markdown",
   "metadata": {},
   "source": [
    "## teste 1\n",
    "teste simples que em que os três pontos formam um triângulo retângulo.\n"
   ]
  },
  {
   "cell_type": "code",
   "execution_count": 2,
   "metadata": {},
   "outputs": [],
   "source": [
    "def convert_cut(time):\n",
    "    if (time[-2:] == \"ms\"): #convert\n",
    "        return (float(time[:-2])/1000)\n",
    "    try:\n",
    "        return float(time[:-1])\n",
    "    except:\n",
    "        sys.exit(\"tempo não reconhecido: \"+str(time))\n",
    "\n",
    "def get_time(data):\n",
    "    data = data.splitlines()\n",
    "    total = float(((data[1][:])).split()[-1])/1000#total time\n",
    "    solver = (((data[5][:])).split()[3])#GPU solver time\n",
    "    \n",
    "    solver = convert_cut(solver)\n",
    "    return total, solver"
   ]
  },
  {
   "cell_type": "code",
   "execution_count": 3,
   "metadata": {},
   "outputs": [],
   "source": [
    "with open('teste1.txt', 'r') as file:\n",
    "    data = file.read().replace('\\n', ' ')\n",
    "    data = str.encode(data)\n",
    "\n",
    "time_total = [];\n",
    "time_solver = [];\n",
    "\n",
    "for i in range(3):\n",
    "    main = subprocess.run([\"nvprof\",\"./build/opt_gpu\"],input = data,stderr=PIPE)\n",
    "    \n",
    "    total ,solver = get_time((main.stderr).decode(\"utf-8\"))\n",
    "\n",
    "    time_total.append(total)\n",
    "    time_solver.append(solver)"
   ]
  },
  {
   "cell_type": "code",
   "execution_count": 4,
   "metadata": {},
   "outputs": [],
   "source": [
    "time_total_r = [];\n",
    "time_solver_r = [];\n",
    "\n",
    "for i in range(10):\n",
    "    main_r = subprocess.run([\"nvprof\",\"./build/r_solver\"],input = data,stderr=PIPE)\n",
    "    \n",
    "    total ,solver = get_time((main_r.stderr).decode(\"utf-8\"))\n",
    "\n",
    "    time_total_r.append(total)\n",
    "    time_solver_r.append(solver)\n",
    "\n"
   ]
  },
  {
   "cell_type": "code",
   "execution_count": 5,
   "metadata": {},
   "outputs": [],
   "source": [
    "time_para = [];\n",
    "\n",
    "for i in range(10):\n",
    "    main_para = subprocess.run([\"build/opt_para\"],input = data,stderr=PIPE)\n",
    "\n",
    "    time_para.append(float((main_para.stderr).decode(\"utf-8\")))"
   ]
  },
  {
   "cell_type": "code",
   "execution_count": 6,
   "metadata": {},
   "outputs": [
    {
     "data": {
      "image/png": "[encoded data removed]",
      "text/plain": [
       "<Figure size 1440x360 with 1 Axes>"
      ]
     },
     "metadata": {
      "needs_background": "light"
     },
     "output_type": "display_data"
    }
   ],
   "source": [
    "x = np.arange(5)\n",
    "mean_list = [np.mean(time_total),np.mean(time_solver),np.mean(time_total_r),np.mean(time_solver_r),np.mean(time_para)]\n",
    "\n",
    "fig, ax = plt.subplots(figsize=(20,5))\n",
    "plt.bar(x, mean_list, color = [\"blue\", \"green\"])\n",
    "plt.xticks(x, [\"2opt gpu total\",\"tempo do calculo do 2opt na gpu\",\"random gpu total\",\"tempo do calculo do random na gpu\",\"tempo em paralelo\"])\n",
    "plt.ylabel(\"Tempo (s)\")\n",
    "plt.title(\"Teste 1 N=3\")\n",
    "plt.show()"
   ]
  },
  {
   "cell_type": "markdown",
   "metadata": {},
   "source": [
    "Podemos que nos códigos CUDA a maioria do tempo é perdida com o overhead do programa e que ela passa pouco tempo realmente calculando o resultado,porém mesmo assim é mais rápida que o código em paralelo"
   ]
  },
  {
   "cell_type": "markdown",
   "metadata": {},
   "source": [
    "## teste 2\n",
    "teste mais complexo que contem 15 pontos aleatoriamente gerados usando o programa \"gerador.py\". "
   ]
  },
  {
   "cell_type": "code",
   "execution_count": 7,
   "metadata": {},
   "outputs": [],
   "source": [
    "with open('teste5.txt', 'r') as file:\n",
    "    data = file.read().replace('\\n', ' ')\n",
    "    data = str.encode(data)\n",
    "\n",
    "time_total = [];\n",
    "time_solver = [];\n",
    "\n",
    "for i in range(10):\n",
    "    main = subprocess.run([\"nvprof\",\"./build/opt_gpu\"],input = data,stderr=PIPE)\n",
    "    \n",
    "    total ,solver = get_time((main.stderr).decode(\"utf-8\"))\n",
    "\n",
    "    time_total.append(total)\n",
    "    time_solver.append(solver)\n",
    "    \n",
    "time_total_r = [];\n",
    "time_solver_r = [];\n",
    "\n",
    "for i in range(10):\n",
    "    main_r = subprocess.run([\"nvprof\",\"./build/r_solver\"],input = data,stderr=PIPE)\n",
    "    \n",
    "    total ,solver = get_time((main_r.stderr).decode(\"utf-8\"))\n",
    "\n",
    "    time_total_r.append(total)\n",
    "    time_solver_r.append(solver)\n",
    "    \n",
    "time_para = [];\n",
    "\n",
    "for i in range(10):\n",
    "    main_para = subprocess.run([\"build/opt_para\"],input = data,stderr=PIPE)\n",
    "\n",
    "    time_para.append(float((main_para.stderr).decode(\"utf-8\")))"
   ]
  },
  {
   "cell_type": "code",
   "execution_count": 8,
   "metadata": {},
   "outputs": [
    {
     "data": {
      "image/png": "[encoded data removed]",
      "text/plain": [
       "<Figure size 1440x360 with 1 Axes>"
      ]
     },
     "metadata": {
      "needs_background": "light"
     },
     "output_type": "display_data"
    }
   ],
   "source": [
    "x = np.arange(5)\n",
    "mean_list = [np.mean(time_total),np.mean(time_solver),np.mean(time_total_r),np.mean(time_solver_r),np.mean(time_para)]\n",
    "\n",
    "fig, ax = plt.subplots(figsize=(20,5))\n",
    "plt.bar(x, mean_list, color = [\"blue\", \"green\"])\n",
    "plt.xticks(x, [\"2opt gpu total\",\"tempo do calculo do 2opt na gpu\",\"random gpu total\",\"tempo do calculo do random na gpu\",\"tempo em paralelo\"])\n",
    "plt.ylabel(\"Tempo (s)\")\n",
    "plt.title(\"Teste 2 N=15\")\n",
    "plt.show()"
   ]
  },
  {
   "cell_type": "markdown",
   "metadata": {},
   "source": [
    "Podemos ver novamente que o cálculo em gpu é mais rápido."
   ]
  },
  {
   "cell_type": "markdown",
   "metadata": {},
   "source": [
    "## teste 3\n",
    "teste que contem 100 pontos aleatoriamente gerados usando o programa \"gerador.py\". Esse texto não contém a comparação com o em paralelo, já que para esse nível de dados ele seria muito lento. O primeiro gŕafico desse teste está em escala logarítmica. "
   ]
  },
  {
   "cell_type": "code",
   "execution_count": 9,
   "metadata": {},
   "outputs": [],
   "source": [
    "with open('superlargetest.txt', 'r') as file:\n",
    "    data = file.read().replace('\\n', ' ')\n",
    "    data = str.encode(data)\n",
    "\n",
    "time_total = [];\n",
    "time_solver = [];\n",
    "\n",
    "for i in range(2):\n",
    "    main = subprocess.run([\"nvprof\",\"./build/opt_gpu\"],input = data,stderr=PIPE)\n",
    "    \n",
    "    total ,solver = get_time((main.stderr).decode(\"utf-8\"))\n",
    "\n",
    "    time_total.append(total)\n",
    "    time_solver.append(solver)\n",
    "    \n",
    "time_total_r = [];\n",
    "time_solver_r = [];\n",
    "\n",
    "for i in range(4):\n",
    "    main_r = subprocess.run([\"nvprof\",\"./build/r_solver\"],input = data,stderr=PIPE)\n",
    "    \n",
    "    total ,solver = get_time((main_r.stderr).decode(\"utf-8\"))\n",
    "\n",
    "    time_total_r.append(total)\n",
    "    time_solver_r.append(solver)\n",
    "    \n",
    "time_para = [];"
   ]
  },
  {
   "cell_type": "code",
   "execution_count": 10,
   "metadata": {},
   "outputs": [
    {
     "data": {
      "image/png": "[encoded data removed]",
      "text/plain": [
       "<Figure size 1440x360 with 1 Axes>"
      ]
     },
     "metadata": {
      "needs_background": "light"
     },
     "output_type": "display_data"
    }
   ],
   "source": [
    "x = np.arange(4)\n",
    "y = (np.sin(1.e-2*(x[:-1]-20))+3)**10\n",
    "mean_list = [np.mean(time_total),np.mean(time_solver),np.mean(time_total_r),np.mean(time_solver_r)]\n",
    "\n",
    "fig, ax = plt.subplots(figsize=(20,5))\n",
    "plt.bar(x, mean_list, color = [\"blue\", \"green\"] , log=True)\n",
    "plt.xticks(x, [\"2opt gpu total\",\"tempo do calculo do 2opt na gpu\",\"random gpu total\",\"tempo do calculo do random na gpu\",\"tempo em paralelo\"])\n",
    "plt.ylabel(\"Tempo (s) escala logaritmica\")\n",
    "plt.title(\"Teste 3 N=100 escala logaritmica\")\n",
    "plt.show()"
   ]
  },
  {
   "cell_type": "markdown",
   "metadata": {},
   "source": [
    "Abaixo podemos ver os mesmo resultados, mas esses não estão em escala logarítmica."
   ]
  },
  {
   "cell_type": "code",
   "execution_count": 11,
   "metadata": {},
   "outputs": [
    {
     "data": {
      "image/png": "[encoded data removed]",
      "text/plain": [
       "<Figure size 1440x360 with 1 Axes>"
      ]
     },
     "metadata": {
      "needs_background": "light"
     },
     "output_type": "display_data"
    }
   ],
   "source": [
    "x = np.arange(4)\n",
    "y = (np.sin(1.e-2*(x[:-1]-20))+3)**10\n",
    "mean_list = [np.mean(time_total),np.mean(time_solver),np.mean(time_total_r),np.mean(time_solver_r)]\n",
    "\n",
    "fig, ax = plt.subplots(figsize=(20,5))\n",
    "plt.bar(x, mean_list, color = [\"blue\", \"green\"])\n",
    "plt.xticks(x, [\"2opt gpu total\",\"tempo do calculo do 2opt na gpu\",\"random gpu total\",\"tempo do calculo do random na gpu\",\"tempo em paralelo\"])\n",
    "plt.ylabel(\"Tempo (s)\")\n",
    "plt.title(\"Teste 3 N=100\")\n",
    "plt.show()"
   ]
  },
  {
   "cell_type": "markdown",
   "metadata": {},
   "source": [
    "Podemos ver que para exemplos grandes o 2-opt tem um overhead desprezível, já que a grande maioria do tempo (cerca de 99.98%) está sendo gasta para realmente calcular a solução."
   ]
  }
 ],
 "metadata": {
  "kernelspec": {
   "display_name": "Python 3",
   "language": "python",
   "name": "python3"
  },
  "language_info": {
   "codemirror_mode": {
    "name": "ipython",
    "version": 3
   },
   "file_extension": ".py",
   "mimetype": "text/x-python",
   "name": "python",
   "nbconvert_exporter": "python",
   "pygments_lexer": "ipython3",
   "version": "3.6.8"
  }
 },
 "nbformat": 4,
 "nbformat_minor": 4
}
