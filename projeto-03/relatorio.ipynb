{
 "cells": [
  {
   "cell_type": "markdown",
   "metadata": {},
   "source": [
    "## Projeto 3- Traveling salesman em gpu - Paulo Tozzo"
   ]
  },
  {
   "cell_type": "markdown",
   "metadata": {},
   "source": [
    "## O Problema\n",
    "\n",
    "O problema do caixeiro-viajante é um problema comum na área de logísticas, ele é basicamente: dado n pontos qual é o menor caminho que percorra todos esses pontos?. Esse problema é classificado como NP-completo, sua solução é custosa em relação ao tempo,j assim uma solução (2-opt) foi implementado usando uma gpu para realização de cálculos, esse implementação foi comparada com uma versão paralelizada  e também com uma versão que chuta respostas, essa também usa a gpu para realizar os cálculos."
   ]
  },
  {
   "cell_type": "code",
   "execution_count": 1,
   "metadata": {},
   "outputs": [],
   "source": [
    "import sys\n",
    "import subprocess\n",
    "from subprocess import PIPE\n",
    "import numpy as np\n",
    "import matplotlib.pyplot as plt"
   ]
  },
  {
   "cell_type": "markdown",
   "metadata": {},
   "source": [
    "## Organização do codigo\n",
    "O algoritmo no geral é simples, ele usa um kernel cuda para pré-calcular todas as distâncias possíveis e depois usa outro kernel em cuda que foi implementado o 2-opt, esse cria caminhos randomicamente , e depois mudam a sequência dos pontos até não ter melhora no custo total, o algoritmo randômico só faz a primeira parte do 2-opt ou seja só randomiza a lista."
   ]
  },
  {
   "cell_type": "markdown",
   "metadata": {},
   "source": [
    "## Descrição dos testes\n",
    "Foi realizado  testes 3 de desempenho, comparado a solução em gpu e a paralela vendo também o tempo que a gpu gasta realmente calculando a solução vs o tempo que ela gasta de overhead. Para medir o tempo foi usado `std::chrono::high_resolution_clock` para o algoritmo em paralelo e evento e `cudaEvent` para o codigo cuda.Para diminuir a variação de tempo os testes os testes foram executados múltiplas vezes e foi feita a média. O computador que executou os testes têm como hardware relevante:\n",
    "processador i7-8550U CPU @ 1.80GHz.\n",
    "GeForce MX150.\n",
    "\n",
    "Deve ser notado também que apesar que simplesmente gerar sequências aleatórias é mais rápido que calcular o 2-opt, porem esse gera solução muito melhores, principalmente para números grandes. Os dois 2-opt (em paralelo e em gpu) tem resultados semelhantes, só não são iguais porque a maneira que os números aleatórios são gerados é diferente.\n",
    "\n",
    "É esperado que os arquivos compilados estajam em uma pasta chamada build.\n"
   ]
  },
  {
   "cell_type": "markdown",
   "metadata": {},
   "source": [
    "## teste 1\n",
    "teste simples que em que os três pontos formam um triângulo retângulo.\n"
   ]
  },
  {
   "cell_type": "code",
   "execution_count": 2,
   "metadata": {},
   "outputs": [],
   "source": [
    "def convert_cut(time):\n",
    "    if (time[-2:] == \"ms\"): #convert\n",
    "        return (float(time[:-2])/1000)\n",
    "    try:\n",
    "        return float(time[:-1])\n",
    "    except:\n",
    "        sys.exit(\"tempo não reconhecido: \"+str(time))\n",
    "\n",
    "def get_time(data):\n",
    "    data = data.splitlines()\n",
    "    total = float(((data[1][:])).split()[-1])/1000#total time\n",
    "    solver = (((data[5][:])).split()[3])#GPU solver time\n",
    "    \n",
    "    solver = convert_cut(solver)\n",
    "    return total, solver"
   ]
  },
  {
   "cell_type": "code",
   "execution_count": 3,
   "metadata": {},
   "outputs": [],
   "source": [
    "with open('teste1.txt', 'r') as file:\n",
    "    data = file.read().replace('\\n', ' ')\n",
    "    data = str.encode(data)\n",
    "\n",
    "time_total = [];\n",
    "time_solver = [];\n",
    "\n",
    "for i in range(1):\n",
    "    main = subprocess.run([\"nvprof\",\"./build/2opt-sol\"],input = data,stderr=PIPE,stdout=PIPE)\n",
    "    \n",
    "    total ,solver = get_time((main.stderr).decode(\"utf-8\"))\n",
    "    \n",
    "    \n",
    "    \n",
    "    time_total.append(total)\n",
    "    time_solver.append(solver)\n",
    "    \n",
    "best_sol = (main.stdout).decode(\"utf-8\")[0]#sempre vai ser o mesmo"
   ]
  },
  {
   "cell_type": "code",
   "execution_count": 4,
   "metadata": {},
   "outputs": [],
   "source": [
    "time_total_r = [];\n",
    "time_solver_r = [];\n",
    "\n",
    "for i in range(100):\n",
    "    main_r = subprocess.run([\"nvprof\",\"./build/random-sol\"],input = data,stderr=PIPE,stdout=PIPE)\n",
    "    \n",
    "    total ,solver = get_time((main_r.stderr).decode(\"utf-8\"))\n",
    "\n",
    "    time_total_r.append(total)\n",
    "    time_solver_r.append(solver)\n",
    "\n",
    "best_r_sol = (main_r.stdout).decode(\"utf-8\")[0]#sempre vai ser o mesmo"
   ]
  },
  {
   "cell_type": "code",
   "execution_count": 5,
   "metadata": {},
   "outputs": [],
   "source": [
    "time_para = [];\n",
    "\n",
    "for i in range(50):\n",
    "    main_para = subprocess.run([\"build/opt_para\"],input = data,stderr=PIPE,stdout=PIPE)\n",
    "\n",
    "    time_para.append(float((main_para.stderr).decode(\"utf-8\")))\n",
    "    \n",
    "best_para_sol = (main_para.stdout).decode(\"utf-8\")[0]#sempre vai ser o mesmo"
   ]
  },
  {
   "cell_type": "code",
   "execution_count": 6,
   "metadata": {},
   "outputs": [
    {
     "data": {
      "image/png": "[encoded data removed]",
      "text/plain": [
       "<Figure size 1440x360 with 1 Axes>"
      ]
     },
     "metadata": {
      "needs_background": "light"
     },
     "output_type": "display_data"
    },
    {
     "name": "stdout",
     "output_type": "stream",
     "text": [
      "melhor solução: 2-opt 2, random-sol 2, opt_para 4\n"
     ]
    }
   ],
   "source": [
    "x = np.arange(5)\n",
    "mean_list = [np.mean(time_total),np.mean(time_solver),np.mean(time_total_r),np.mean(time_solver_r),np.mean(time_para)]\n",
    "\n",
    "fig, ax = plt.subplots(figsize=(20,5))\n",
    "plt.bar(x, mean_list, color = [\"blue\", \"green\"])\n",
    "plt.xticks(x, [\"2opt gpu total\",\"tempo do calculo do 2opt na gpu\",\"random gpu total\",\"tempo do calculo do random na gpu\",\"tempo em paralelo\"])\n",
    "plt.ylabel(\"Tempo (s)\")\n",
    "plt.title(\"Teste 1 N=3\")\n",
    "plt.show()\n",
    "print(\"melhor solução: 2-opt {0}, random-sol {1}, opt_para {2}\".format(best_sol,best_r_sol,best_para_sol))"
   ]
  },
  {
   "cell_type": "markdown",
   "metadata": {},
   "source": [
    "Podemos que nos códigos CUDA a maioria do tempo é perdida com o overhead do programa e que ela passa pouco tempo realmente calculando o resultado,porém mesmo assim é mais rápida que o código em paralelo"
   ]
  },
  {
   "cell_type": "markdown",
   "metadata": {},
   "source": [
    "## teste 2\n",
    "teste mais complexo que contem 15 pontos aleatoriamente gerados usando o programa \"gerador.py\". "
   ]
  },
  {
   "cell_type": "code",
   "execution_count": 7,
   "metadata": {},
   "outputs": [],
   "source": [
    "with open('teste5.txt', 'r') as file:\n",
    "    data = file.read().replace('\\n', ' ')\n",
    "    data = str.encode(data)\n",
    "\n",
    "time_total = [];\n",
    "time_solver = [];\n",
    "\n",
    "for i in range(50):\n",
    "    main = subprocess.run([\"nvprof\",\"./build/2opt-sol\"],input = data,stderr=PIPE,stdout=PIPE)\n",
    "    \n",
    "    total ,solver = get_time((main.stderr).decode(\"utf-8\"))\n",
    "\n",
    "    time_total.append(total)\n",
    "    time_solver.append(solver)\n",
    "    \n",
    "time_total_r = [];\n",
    "time_solver_r = [];\n",
    "\n",
    "for i in range(50):\n",
    "    main_r = subprocess.run([\"nvprof\",\"./build/random-sol\"],input = data,stderr=PIPE,stdout=PIPE)\n",
    "    \n",
    "    total ,solver = get_time((main_r.stderr).decode(\"utf-8\"))\n",
    "\n",
    "    time_total_r.append(total)\n",
    "    time_solver_r.append(solver)\n",
    "    \n",
    "time_para = [];\n",
    "\n",
    "for i in range(25):\n",
    "    main_para = subprocess.run([\"build/opt_para\"],input = data,stderr=PIPE,stdout=PIPE)\n",
    "\n",
    "    time_para.append(float((main_para.stderr).decode(\"utf-8\")))\n",
    "    \n",
    "best_sol = (main.stdout).decode(\"utf-8\")[0]#sempre vai ser o mesmo\n",
    "best_r_sol = (main_r.stdout).decode(\"utf-8\")[0]#sempre vai ser o mesmo\n",
    "best_para_sol = (main_para.stdout).decode(\"utf-8\")[0]#sempre vai ser o mesmo"
   ]
  },
  {
   "cell_type": "code",
   "execution_count": 8,
   "metadata": {},
   "outputs": [
    {
     "ename": "ValueError",
     "evalue": "shape mismatch: objects cannot be broadcast to a single shape",
     "output_type": "error",
     "traceback": [
      "\u001b[0;31m---------------------------------------------------------------------------\u001b[0m",
      "\u001b[0;31mValueError\u001b[0m                                Traceback (most recent call last)",
      "\u001b[0;32m<ipython-input-8-32997e54ab98>\u001b[0m in \u001b[0;36m<module>\u001b[0;34m\u001b[0m\n\u001b[1;32m      3\u001b[0m \u001b[0;34m\u001b[0m\u001b[0m\n\u001b[1;32m      4\u001b[0m \u001b[0mfig\u001b[0m\u001b[0;34m,\u001b[0m \u001b[0max\u001b[0m \u001b[0;34m=\u001b[0m \u001b[0mplt\u001b[0m\u001b[0;34m.\u001b[0m\u001b[0msubplots\u001b[0m\u001b[0;34m(\u001b[0m\u001b[0mfigsize\u001b[0m\u001b[0;34m=\u001b[0m\u001b[0;34m(\u001b[0m\u001b[0;36m20\u001b[0m\u001b[0;34m,\u001b[0m\u001b[0;36m5\u001b[0m\u001b[0;34m)\u001b[0m\u001b[0;34m)\u001b[0m\u001b[0;34m\u001b[0m\u001b[0;34m\u001b[0m\u001b[0m\n\u001b[0;32m----> 5\u001b[0;31m \u001b[0mplt\u001b[0m\u001b[0;34m.\u001b[0m\u001b[0mbar\u001b[0m\u001b[0;34m(\u001b[0m\u001b[0mx\u001b[0m\u001b[0;34m,\u001b[0m \u001b[0mmean_list\u001b[0m\u001b[0;34m,\u001b[0m \u001b[0mcolor\u001b[0m \u001b[0;34m=\u001b[0m \u001b[0;34m[\u001b[0m\u001b[0;34m\"blue\"\u001b[0m\u001b[0;34m,\u001b[0m \u001b[0;34m\"green\"\u001b[0m\u001b[0;34m]\u001b[0m\u001b[0;34m)\u001b[0m\u001b[0;34m\u001b[0m\u001b[0;34m\u001b[0m\u001b[0m\n\u001b[0m\u001b[1;32m      6\u001b[0m \u001b[0mplt\u001b[0m\u001b[0;34m.\u001b[0m\u001b[0mxticks\u001b[0m\u001b[0;34m(\u001b[0m\u001b[0mx\u001b[0m\u001b[0;34m,\u001b[0m \u001b[0;34m[\u001b[0m\u001b[0;34m\"2opt gpu total\"\u001b[0m\u001b[0;34m,\u001b[0m\u001b[0;34m\"tempo do calculo do 2opt na gpu\"\u001b[0m\u001b[0;34m,\u001b[0m\u001b[0;34m\"random gpu total\"\u001b[0m\u001b[0;34m,\u001b[0m\u001b[0;34m\"tempo do calculo do random na gpu\"\u001b[0m\u001b[0;34m,\u001b[0m\u001b[0;34m\"tempo em paralelo\"\u001b[0m\u001b[0;34m]\u001b[0m\u001b[0;34m)\u001b[0m\u001b[0;34m\u001b[0m\u001b[0;34m\u001b[0m\u001b[0m\n\u001b[1;32m      7\u001b[0m \u001b[0mplt\u001b[0m\u001b[0;34m.\u001b[0m\u001b[0mylabel\u001b[0m\u001b[0;34m(\u001b[0m\u001b[0;34m\"Tempo (s)\"\u001b[0m\u001b[0;34m)\u001b[0m\u001b[0;34m\u001b[0m\u001b[0;34m\u001b[0m\u001b[0m\n",
      "\u001b[0;32m~/.local/lib/python3.6/site-packages/matplotlib/pyplot.py\u001b[0m in \u001b[0;36mbar\u001b[0;34m(x, height, width, bottom, align, data, **kwargs)\u001b[0m\n\u001b[1;32m   2438\u001b[0m     return gca().bar(\n\u001b[1;32m   2439\u001b[0m         \u001b[0mx\u001b[0m\u001b[0;34m,\u001b[0m \u001b[0mheight\u001b[0m\u001b[0;34m,\u001b[0m \u001b[0mwidth\u001b[0m\u001b[0;34m=\u001b[0m\u001b[0mwidth\u001b[0m\u001b[0;34m,\u001b[0m \u001b[0mbottom\u001b[0m\u001b[0;34m=\u001b[0m\u001b[0mbottom\u001b[0m\u001b[0;34m,\u001b[0m \u001b[0malign\u001b[0m\u001b[0;34m=\u001b[0m\u001b[0malign\u001b[0m\u001b[0;34m,\u001b[0m\u001b[0;34m\u001b[0m\u001b[0;34m\u001b[0m\u001b[0m\n\u001b[0;32m-> 2440\u001b[0;31m         **({\"data\": data} if data is not None else {}), **kwargs)\n\u001b[0m\u001b[1;32m   2441\u001b[0m \u001b[0;34m\u001b[0m\u001b[0m\n\u001b[1;32m   2442\u001b[0m \u001b[0;34m\u001b[0m\u001b[0m\n",
      "\u001b[0;32m~/.local/lib/python3.6/site-packages/matplotlib/__init__.py\u001b[0m in \u001b[0;36minner\u001b[0;34m(ax, data, *args, **kwargs)\u001b[0m\n\u001b[1;32m   1599\u001b[0m     \u001b[0;32mdef\u001b[0m \u001b[0minner\u001b[0m\u001b[0;34m(\u001b[0m\u001b[0max\u001b[0m\u001b[0;34m,\u001b[0m \u001b[0;34m*\u001b[0m\u001b[0margs\u001b[0m\u001b[0;34m,\u001b[0m \u001b[0mdata\u001b[0m\u001b[0;34m=\u001b[0m\u001b[0;32mNone\u001b[0m\u001b[0;34m,\u001b[0m \u001b[0;34m**\u001b[0m\u001b[0mkwargs\u001b[0m\u001b[0;34m)\u001b[0m\u001b[0;34m:\u001b[0m\u001b[0;34m\u001b[0m\u001b[0;34m\u001b[0m\u001b[0m\n\u001b[1;32m   1600\u001b[0m         \u001b[0;32mif\u001b[0m \u001b[0mdata\u001b[0m \u001b[0;32mis\u001b[0m \u001b[0;32mNone\u001b[0m\u001b[0;34m:\u001b[0m\u001b[0;34m\u001b[0m\u001b[0;34m\u001b[0m\u001b[0m\n\u001b[0;32m-> 1601\u001b[0;31m             \u001b[0;32mreturn\u001b[0m \u001b[0mfunc\u001b[0m\u001b[0;34m(\u001b[0m\u001b[0max\u001b[0m\u001b[0;34m,\u001b[0m \u001b[0;34m*\u001b[0m\u001b[0mmap\u001b[0m\u001b[0;34m(\u001b[0m\u001b[0msanitize_sequence\u001b[0m\u001b[0;34m,\u001b[0m \u001b[0margs\u001b[0m\u001b[0;34m)\u001b[0m\u001b[0;34m,\u001b[0m \u001b[0;34m**\u001b[0m\u001b[0mkwargs\u001b[0m\u001b[0;34m)\u001b[0m\u001b[0;34m\u001b[0m\u001b[0;34m\u001b[0m\u001b[0m\n\u001b[0m\u001b[1;32m   1602\u001b[0m \u001b[0;34m\u001b[0m\u001b[0m\n\u001b[1;32m   1603\u001b[0m         \u001b[0mbound\u001b[0m \u001b[0;34m=\u001b[0m \u001b[0mnew_sig\u001b[0m\u001b[0;34m.\u001b[0m\u001b[0mbind\u001b[0m\u001b[0;34m(\u001b[0m\u001b[0max\u001b[0m\u001b[0;34m,\u001b[0m \u001b[0;34m*\u001b[0m\u001b[0margs\u001b[0m\u001b[0;34m,\u001b[0m \u001b[0;34m**\u001b[0m\u001b[0mkwargs\u001b[0m\u001b[0;34m)\u001b[0m\u001b[0;34m\u001b[0m\u001b[0;34m\u001b[0m\u001b[0m\n",
      "\u001b[0;32m~/.local/lib/python3.6/site-packages/matplotlib/axes/_axes.py\u001b[0m in \u001b[0;36mbar\u001b[0;34m(self, x, height, width, bottom, align, **kwargs)\u001b[0m\n\u001b[1;32m   2373\u001b[0m         x, height, width, y, linewidth = np.broadcast_arrays(\n\u001b[1;32m   2374\u001b[0m             \u001b[0;31m# Make args iterable too.\u001b[0m\u001b[0;34m\u001b[0m\u001b[0;34m\u001b[0m\u001b[0;34m\u001b[0m\u001b[0m\n\u001b[0;32m-> 2375\u001b[0;31m             np.atleast_1d(x), height, width, y, linewidth)\n\u001b[0m\u001b[1;32m   2376\u001b[0m \u001b[0;34m\u001b[0m\u001b[0m\n\u001b[1;32m   2377\u001b[0m         \u001b[0;31m# Now that units have been converted, set the tick locations.\u001b[0m\u001b[0;34m\u001b[0m\u001b[0;34m\u001b[0m\u001b[0;34m\u001b[0m\u001b[0m\n",
      "\u001b[0;32m<__array_function__ internals>\u001b[0m in \u001b[0;36mbroadcast_arrays\u001b[0;34m(*args, **kwargs)\u001b[0m\n",
      "\u001b[0;32m~/.local/lib/python3.6/site-packages/numpy/lib/stride_tricks.py\u001b[0m in \u001b[0;36mbroadcast_arrays\u001b[0;34m(*args, **kwargs)\u001b[0m\n\u001b[1;32m    262\u001b[0m     \u001b[0margs\u001b[0m \u001b[0;34m=\u001b[0m \u001b[0;34m[\u001b[0m\u001b[0mnp\u001b[0m\u001b[0;34m.\u001b[0m\u001b[0marray\u001b[0m\u001b[0;34m(\u001b[0m\u001b[0m_m\u001b[0m\u001b[0;34m,\u001b[0m \u001b[0mcopy\u001b[0m\u001b[0;34m=\u001b[0m\u001b[0;32mFalse\u001b[0m\u001b[0;34m,\u001b[0m \u001b[0msubok\u001b[0m\u001b[0;34m=\u001b[0m\u001b[0msubok\u001b[0m\u001b[0;34m)\u001b[0m \u001b[0;32mfor\u001b[0m \u001b[0m_m\u001b[0m \u001b[0;32min\u001b[0m \u001b[0margs\u001b[0m\u001b[0;34m]\u001b[0m\u001b[0;34m\u001b[0m\u001b[0;34m\u001b[0m\u001b[0m\n\u001b[1;32m    263\u001b[0m \u001b[0;34m\u001b[0m\u001b[0m\n\u001b[0;32m--> 264\u001b[0;31m     \u001b[0mshape\u001b[0m \u001b[0;34m=\u001b[0m \u001b[0m_broadcast_shape\u001b[0m\u001b[0;34m(\u001b[0m\u001b[0;34m*\u001b[0m\u001b[0margs\u001b[0m\u001b[0;34m)\u001b[0m\u001b[0;34m\u001b[0m\u001b[0;34m\u001b[0m\u001b[0m\n\u001b[0m\u001b[1;32m    265\u001b[0m \u001b[0;34m\u001b[0m\u001b[0m\n\u001b[1;32m    266\u001b[0m     \u001b[0;32mif\u001b[0m \u001b[0mall\u001b[0m\u001b[0;34m(\u001b[0m\u001b[0marray\u001b[0m\u001b[0;34m.\u001b[0m\u001b[0mshape\u001b[0m \u001b[0;34m==\u001b[0m \u001b[0mshape\u001b[0m \u001b[0;32mfor\u001b[0m \u001b[0marray\u001b[0m \u001b[0;32min\u001b[0m \u001b[0margs\u001b[0m\u001b[0;34m)\u001b[0m\u001b[0;34m:\u001b[0m\u001b[0;34m\u001b[0m\u001b[0;34m\u001b[0m\u001b[0m\n",
      "\u001b[0;32m~/.local/lib/python3.6/site-packages/numpy/lib/stride_tricks.py\u001b[0m in \u001b[0;36m_broadcast_shape\u001b[0;34m(*args)\u001b[0m\n\u001b[1;32m    189\u001b[0m     \u001b[0;31m# use the old-iterator because np.nditer does not handle size 0 arrays\u001b[0m\u001b[0;34m\u001b[0m\u001b[0;34m\u001b[0m\u001b[0;34m\u001b[0m\u001b[0m\n\u001b[1;32m    190\u001b[0m     \u001b[0;31m# consistently\u001b[0m\u001b[0;34m\u001b[0m\u001b[0;34m\u001b[0m\u001b[0;34m\u001b[0m\u001b[0m\n\u001b[0;32m--> 191\u001b[0;31m     \u001b[0mb\u001b[0m \u001b[0;34m=\u001b[0m \u001b[0mnp\u001b[0m\u001b[0;34m.\u001b[0m\u001b[0mbroadcast\u001b[0m\u001b[0;34m(\u001b[0m\u001b[0;34m*\u001b[0m\u001b[0margs\u001b[0m\u001b[0;34m[\u001b[0m\u001b[0;34m:\u001b[0m\u001b[0;36m32\u001b[0m\u001b[0;34m]\u001b[0m\u001b[0;34m)\u001b[0m\u001b[0;34m\u001b[0m\u001b[0;34m\u001b[0m\u001b[0m\n\u001b[0m\u001b[1;32m    192\u001b[0m     \u001b[0;31m# unfortunately, it cannot handle 32 or more arguments directly\u001b[0m\u001b[0;34m\u001b[0m\u001b[0;34m\u001b[0m\u001b[0;34m\u001b[0m\u001b[0m\n\u001b[1;32m    193\u001b[0m     \u001b[0;32mfor\u001b[0m \u001b[0mpos\u001b[0m \u001b[0;32min\u001b[0m \u001b[0mrange\u001b[0m\u001b[0;34m(\u001b[0m\u001b[0;36m32\u001b[0m\u001b[0;34m,\u001b[0m \u001b[0mlen\u001b[0m\u001b[0;34m(\u001b[0m\u001b[0margs\u001b[0m\u001b[0;34m)\u001b[0m\u001b[0;34m,\u001b[0m \u001b[0;36m31\u001b[0m\u001b[0;34m)\u001b[0m\u001b[0;34m:\u001b[0m\u001b[0;34m\u001b[0m\u001b[0;34m\u001b[0m\u001b[0m\n",
      "\u001b[0;31mValueError\u001b[0m: shape mismatch: objects cannot be broadcast to a single shape"
     ]
    },
    {
     "data": {
      "image/png": "[encoded data removed]",
      "text/plain": [
       "<Figure size 1440x360 with 1 Axes>"
      ]
     },
     "metadata": {
      "needs_background": "light"
     },
     "output_type": "display_data"
    }
   ],
   "source": [
    "x = np.arange(25)\n",
    "mean_list = [np.mean(time_total),np.mean(time_solver),np.mean(time_total_r),np.mean(time_solver_r),np.mean(time_para)]\n",
    "\n",
    "fig, ax = plt.subplots(figsize=(20,5))\n",
    "plt.bar(x, mean_list, color = [\"blue\", \"green\"])\n",
    "plt.xticks(x, [\"2opt gpu total\",\"tempo do calculo do 2opt na gpu\",\"random gpu total\",\"tempo do calculo do random na gpu\",\"tempo em paralelo\"])\n",
    "plt.ylabel(\"Tempo (s)\")\n",
    "plt.title(\"Teste 2 N=15\")\n",
    "plt.show()\n",
    "print(\"melhor solução: 2-opt {0}, random-sol {1}, opt_para {2}\".format(best_sol,best_r_sol,best_para_sol))"
   ]
  },
  {
   "cell_type": "markdown",
   "metadata": {},
   "source": [
    "Podemos ver novamente que o cálculo em gpu é mais rápido."
   ]
  },
  {
   "cell_type": "markdown",
   "metadata": {},
   "source": [
    "## teste 3\n",
    "teste que contem 100 pontos aleatoriamente gerados usando o programa \"gerador.py\". Esse texto não contém a comparação com o em paralelo, já que para esse nível de dados ele seria muito lento. O primeiro gŕafico desse teste está em escala logarítmica. "
   ]
  },
  {
   "cell_type": "code",
   "execution_count": null,
   "metadata": {},
   "outputs": [],
   "source": [
    "with open('superlargetest.txt', 'r') as file:\n",
    "    data = file.read().replace('\\n', ' ')\n",
    "    data = str.encode(data)\n",
    "\n",
    "time_total = [];\n",
    "time_solver = [];\n",
    "\n",
    "for i in range(2):\n",
    "    main = subprocess.run([\"nvprof\",\"./build/2opt-sol\"],input = data,stderr=PIPE,stdout=PIPE)\n",
    "    \n",
    "    total ,solver = get_time((main.stderr).decode(\"utf-8\"))\n",
    "\n",
    "    time_total.append(total)\n",
    "    time_solver.append(solver)\n",
    "    \n",
    "time_total_r = [];\n",
    "time_solver_r = [];\n",
    "\n",
    "for i in range(4):\n",
    "    main_r = subprocess.run([\"nvprof\",\"./build/random-sol\"],input = data,stderr=PIPE,stdout=PIPE)\n",
    "    \n",
    "    total ,solver = get_time((main_r.stderr).decode(\"utf-8\"))\n",
    "\n",
    "    time_total_r.append(total)\n",
    "    time_solver_r.append(solver)\n",
    "    \n",
    "time_para = [];\n",
    "\n",
    "best_sol = (main.stdout).decode(\"utf-8\")[0]#sempre vai ser o mesmo\n",
    "best_r_sol = (main_r.stdout).decode(\"utf-8\")[0]#sempre vai ser o mesmo"
   ]
  },
  {
   "cell_type": "code",
   "execution_count": null,
   "metadata": {},
   "outputs": [],
   "source": [
    "x = np.arange(4)\n",
    "y = (np.sin(1.e-2*(x[:-1]-20))+3)**10\n",
    "mean_list = [np.mean(time_total),np.mean(time_solver),np.mean(time_total_r),np.mean(time_solver_r)]\n",
    "\n",
    "fig, ax = plt.subplots(figsize=(20,5))\n",
    "plt.bar(x, mean_list, color = [\"blue\", \"green\"] , log=True)\n",
    "plt.xticks(x, [\"2opt gpu total\",\"tempo do calculo do 2opt na gpu\",\"random gpu total\",\"tempo do calculo do random na gpu\",\"tempo em paralelo\"])\n",
    "plt.ylabel(\"Tempo (s) escala logaritmica\")\n",
    "plt.title(\"Teste 3 N=100 escala logaritmica\")\n",
    "plt.show()\n",
    "print(\"melhor solução: 2-opt {0}, random-sol {1}, opt_para {2}\".format(best_sol,best_r_sol,best_para_sol))"
   ]
  },
  {
   "cell_type": "markdown",
   "metadata": {},
   "source": [
    "Abaixo podemos ver os mesmo resultados, mas esses não estão em escala logarítmica."
   ]
  },
  {
   "cell_type": "code",
   "execution_count": null,
   "metadata": {},
   "outputs": [],
   "source": [
    "x = np.arange(4)\n",
    "y = (np.sin(1.e-2*(x[:-1]-20))+3)**10\n",
    "mean_list = [np.mean(time_total),np.mean(time_solver),np.mean(time_total_r),np.mean(time_solver_r)]\n",
    "\n",
    "fig, ax = plt.subplots(figsize=(20,5))\n",
    "plt.bar(x, mean_list, color = [\"blue\", \"green\"])\n",
    "plt.xticks(x, [\"2opt gpu total\",\"tempo do calculo do 2opt na gpu\",\"random gpu total\",\"tempo do calculo do random na gpu\",\"tempo em paralelo\"])\n",
    "plt.ylabel(\"Tempo (s)\")\n",
    "plt.title(\"Teste 3 N=100\")\n",
    "plt.show()"
   ]
  },
  {
   "cell_type": "markdown",
   "metadata": {},
   "source": [
    "Podemos ver que para exemplos grandes o 2-opt tem um overhead desprezível, já que a grande maioria do tempo (cerca de 99.98%) está sendo gasta para realmente calcular a solução."
   ]
  }
 ],
 "metadata": {
  "kernelspec": {
   "display_name": "Python 3",
   "language": "python",
   "name": "python3"
  },
  "language_info": {
   "codemirror_mode": {
    "name": "ipython",
    "version": 3
   },
   "file_extension": ".py",
   "mimetype": "text/x-python",
   "name": "python",
   "nbconvert_exporter": "python",
   "pygments_lexer": "ipython3",
   "version": "3.6.8"
  }
 },
 "nbformat": 4,
 "nbformat_minor": 4
}
