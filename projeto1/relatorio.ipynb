{
 "cells": [
  {
   "cell_type": "code",
   "execution_count": 27,
   "metadata": {},
   "outputs": [],
   "source": [
    "import subprocess"
   ]
  },
  {
   "cell_type": "code",
   "execution_count": 44,
   "metadata": {},
   "outputs": [],
   "source": [
    "\"\"\"\n",
    "f = open(filename,\"r\");\n",
    "lines = f.readlines();\n",
    "for i in lines:\n",
    "thisline = i.split(\" \");\n",
    "\"\"\"\n",
    "a=subprocess.run([\"build/oi\"],input = b\"10\",capture_output=True)"
   ]
  },
  {
   "cell_type": "code",
   "execution_count": 52,
   "metadata": {},
   "outputs": [
    {
     "name": "stdout",
     "output_type": "stream",
     "text": [
      "\n",
      "\twidth : \n",
      "\tsize : \n",
      "\tmass : \n",
      "\tspeedx : \n",
      "\tspeedy : \n",
      "\tposx : \n",
      "\tposy : c_time: 0\n",
      "pos(x,y)10 5\n",
      "speed(x,y)4.02 0\n",
      "c_time: 1\n",
      "pos(x,y)14.02 5\n",
      "speed(x,y)3.04 0\n",
      "c_time: 2\n",
      "pos(x,y)17.06 5\n",
      "speed(x,y)2.06 0\n",
      "c_time: 3\n",
      "pos(x,y)19.12 5\n",
      "speed(x,y)1.08 0\n",
      "c_time: 4\n",
      "pos(x,y)20.2 5\n",
      "speed(x,y)0.1 0\n",
      "c_time: 5\n",
      "All squares have stoped\n",
      "\n"
     ]
    }
   ],
   "source": [
    "print((a.stdout).decode(\"utf-8\"))"
   ]
  },
  {
   "cell_type": "code",
   "execution_count": null,
   "metadata": {},
   "outputs": [],
   "source": []
  }
 ],
 "metadata": {
  "kernelspec": {
   "display_name": "Python 3",
   "language": "python",
   "name": "python3"
  },
  "language_info": {
   "codemirror_mode": {
    "name": "ipython",
    "version": 3
   },
   "file_extension": ".py",
   "mimetype": "text/x-python",
   "name": "python",
   "nbconvert_exporter": "python",
   "pygments_lexer": "ipython3",
   "version": "3.7.3"
  }
 },
 "nbformat": 4,
 "nbformat_minor": 4
}
