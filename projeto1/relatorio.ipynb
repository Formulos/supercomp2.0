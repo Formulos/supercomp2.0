{
 "cells": [
  {
   "cell_type": "markdown",
   "metadata": {},
   "source": [
    "## Projeto 1- Simulaçao física com auto vetorização - Paulo Tozzo"
   ]
  },
  {
   "cell_type": "markdown",
   "metadata": {},
   "source": [
    "## O Problema\n",
    "\n",
    "Foi implementado uma simulação simples de choque elástico entre retângulos que estão dentro de um quadro também de forma retangular, esses retângulos podem se mover no eixo x e y. Em caso de colisão ocorre um choque perfeitamente elástico, também é possível definir um atrito dinâmico universal que irá a cada iteração diminuir a velocidade dos retângulos. Ao compilar o programa houve uma tentativa de optimizar ele usando autovectorização do gcc."
   ]
  },
  {
   "cell_type": "code",
   "execution_count": 2,
   "metadata": {},
   "outputs": [],
   "source": [
    "import subprocess\n",
    "import numpy as np\n",
    "import matplotlib.pyplot as plt"
   ]
  },
  {
   "cell_type": "markdown",
   "metadata": {},
   "source": [
    "## Descrição dos testes\n",
    "Foi realizado 3 testes de desempenho, e eles foram compilados de 4 formas diferentes, um usando a flag `O3` , outra `O0`, `O2` e o último usando `O3 ftree-vectorize mavx ffast-math`. Para medir o tempo foi usado `std::chrono::high_resolution_clock`, e para diminuir a variação de tempo os testes foi executados 100 vezes e foi feito a média,o último teste demora por volta de 80 segundos por teste assim esse só foi executado 10 vezes. O computador que executou os testes têm como hardware relevente um processador Intel core i7-5500U CPU @ 2.40GHz"
   ]
  },
  {
   "cell_type": "markdown",
   "metadata": {},
   "source": [
    "## teste 1\n",
    "teste simples que retangulos colidem na diagonal e logo depois com a borda.\n"
   ]
  },
  {
   "cell_type": "code",
   "execution_count": 3,
   "metadata": {},
   "outputs": [],
   "source": [
    "with open('teste1', 'r') as file:\n",
    "    data = file.read().replace('\\n', ' ')\n",
    "    data = str.encode(data)\n",
    "\n",
    "time_main = [];\n",
    "time_fast = [];\n",
    "time_two = [];\n",
    "time_zero = [];\n",
    "\n",
    "for i in range(100):\n",
    "    main = subprocess.run([\"build/main\"],input = data,capture_output=True)\n",
    "    main_fast = subprocess.run([\"build/main_fast\"],input = data,capture_output=True)\n",
    "    main_two = subprocess.run([\"build/main_two\"],input = data,capture_output=True)\n",
    "    main_zero = subprocess.run([\"build/main_zero\"],input = data,capture_output=True)\n",
    "    \n",
    "    time_main.append(float((main.stderr).decode(\"utf-8\")))\n",
    "    time_fast.append(float((main_fast.stderr).decode(\"utf-8\")))\n",
    "    time_two.append(float((main_two.stderr).decode(\"utf-8\")))\n",
    "    time_zero.append(float((main_zero.stderr).decode(\"utf-8\")))"
   ]
  },
  {
   "cell_type": "code",
   "execution_count": 4,
   "metadata": {},
   "outputs": [
    {
     "data": {
      "image/png": "[encoded data removed]",
      "text/plain": [
       "<Figure size 864x360 with 1 Axes>"
      ]
     },
     "metadata": {
      "needs_background": "light"
     },
     "output_type": "display_data"
    }
   ],
   "source": [
    "x = np.arange(4)\n",
    "mean_list = [np.mean(time_main),np.mean(time_fast),np.mean(time_two),np.mean(time_zero)]\n",
    "\n",
    "fig, ax = plt.subplots(figsize=(12,5))\n",
    "plt.bar(x, mean_list, color = [\"blue\", \"green\", \"red\", \"yellow\"])\n",
    "plt.xticks(x, [\"O3\",\"ftree\",\"O2\",\"O0\"])\n",
    "plt.ylabel(\"Tempo (s)\")\n",
    "plt.title(\"Teste 1 N=2\")\n",
    "plt.show()"
   ]
  },
  {
   "cell_type": "markdown",
   "metadata": {},
   "source": [
    "A barra verde chamda de ftree é o executavel compilado com `O3 ftree-vectorize mavx ffast-math`"
   ]
  },
  {
   "cell_type": "markdown",
   "metadata": {},
   "source": [
    "## teste 2\n",
    "teste mais complexo que contem 13 retangulos com velocidades aleatórias e com um max_time alto. "
   ]
  },
  {
   "cell_type": "code",
   "execution_count": 5,
   "metadata": {},
   "outputs": [],
   "source": [
    "with open('final_test', 'r') as file:\n",
    "    data = file.read().replace('\\n', ' ')\n",
    "    data = str.encode(data)\n",
    "\n",
    "time_main = [];\n",
    "time_fast = [];\n",
    "time_two = [];\n",
    "time_zero = [];\n",
    "\n",
    "for i in range(100):\n",
    "    main = subprocess.run([\"build/main\"],input = data,capture_output=True)\n",
    "    main_fast = subprocess.run([\"build/main_fast\"],input = data,capture_output=True)\n",
    "    main_two = subprocess.run([\"build/main_two\"],input = data,capture_output=True)\n",
    "    main_zero = subprocess.run([\"build/main_zero\"],input = data,capture_output=True)\n",
    "    \n",
    "    time_main.append(float((main.stderr).decode(\"utf-8\")))\n",
    "    time_fast.append(float((main_fast.stderr).decode(\"utf-8\")))\n",
    "    time_two.append(float((main_two.stderr).decode(\"utf-8\")))\n",
    "    time_zero.append(float((main_zero.stderr).decode(\"utf-8\")))\n"
   ]
  },
  {
   "cell_type": "code",
   "execution_count": 6,
   "metadata": {},
   "outputs": [
    {
     "data": {
      "image/png": "[encoded data removed]",
      "text/plain": [
       "<Figure size 864x360 with 1 Axes>"
      ]
     },
     "metadata": {
      "needs_background": "light"
     },
     "output_type": "display_data"
    }
   ],
   "source": [
    "x = np.arange(4)\n",
    "mean_list = [np.mean(time_main),np.mean(time_fast),np.mean(time_two),np.mean(time_zero)]\n",
    "\n",
    "fig, ax = plt.subplots(figsize=(12,5))\n",
    "plt.bar(x, mean_list, color = [\"blue\", \"green\", \"red\", \"yellow\"])\n",
    "plt.xticks(x, [\"O3\",\"ftree\",\"O2\",\"O0\"])\n",
    "plt.ylabel(\"Tempo (s)\")\n",
    "plt.title(\"Teste 2 N=13\")\n",
    "plt.show()"
   ]
  },
  {
   "cell_type": "markdown",
   "metadata": {},
   "source": [
    "## teste 3\n",
    "Teste com 1000 retângulos aleatórios, o arquivo de entrada foi gerado pelo programa complex_test_generator, que também pode ser encontrado nesse pasta de projeto. "
   ]
  },
  {
   "cell_type": "code",
   "execution_count": 7,
   "metadata": {},
   "outputs": [],
   "source": [
    "with open('true_test', 'r') as file:\n",
    "    data = file.read().replace('\\n', ' ')\n",
    "    data = str.encode(data)\n",
    "\n",
    "time_main = [];\n",
    "time_fast = [];\n",
    "time_two = [];\n",
    "time_zero = [];\n",
    "\n",
    "for i in range(10):\n",
    "    main = subprocess.run([\"build/main\"],input = data,capture_output=True)\n",
    "    main_fast = subprocess.run([\"build/main_fast\"],input = data,capture_output=True)\n",
    "    main_two = subprocess.run([\"build/main_two\"],input = data,capture_output=True)\n",
    "    main_zero = subprocess.run([\"build/main_zero\"],input = data,capture_output=True)\n",
    "    \n",
    "    time_main.append(float((main.stderr).decode(\"utf-8\")))\n",
    "    time_fast.append(float((main_fast.stderr).decode(\"utf-8\")))\n",
    "    time_two.append(float((main_two.stderr).decode(\"utf-8\")))\n",
    "    time_zero.append(float((main_zero.stderr).decode(\"utf-8\")))\n"
   ]
  },
  {
   "cell_type": "code",
   "execution_count": 8,
   "metadata": {},
   "outputs": [
    {
     "data": {
      "image/png": "[encoded data removed]",
      "text/plain": [
       "<Figure size 864x360 with 1 Axes>"
      ]
     },
     "metadata": {
      "needs_background": "light"
     },
     "output_type": "display_data"
    }
   ],
   "source": [
    "x = np.arange(4)\n",
    "mean_list = [np.mean(time_main),np.mean(time_fast),np.mean(time_two),np.mean(time_zero)]\n",
    "\n",
    "fig, ax = plt.subplots(figsize=(12,5))\n",
    "plt.bar(x, mean_list, color = [\"blue\", \"green\", \"red\", \"yellow\"])\n",
    "plt.xticks(x, [\"O3\",\"ftree\",\"O2\",\"O0\"])\n",
    "plt.ylabel(\"Tempo (s)\")\n",
    "plt.title(\"Teste final N=1000\")\n",
    "plt.show()"
   ]
  },
  {
   "cell_type": "markdown",
   "metadata": {},
   "source": [
    "## Conclusão\n",
    "podemos ver que os tempos não tem uma alteração significativa, o que mostra que o compilador não foi capaz de otimizar esse código. Provavelmente o motivo disto ter ocorrido foi que o array usado é um array de classes, isso mostra que o gcc não consegue auto vetorizar muitas operações desse tipo de array. Se as flags `-fopt-info-vec-all`, `-fopt-info-vec-missed`,`-fopt-info-vec-all` forem usadas é possível ver que houve muita pouca auto vetorização."
   ]
  },
  {
   "cell_type": "markdown",
   "metadata": {},
   "source": [
    "- O código usa uma classe chamada square que pode ser encontrada em square.cpp e square.hpp\n",
    "- primeiramente todos os inputs são lidos através do cin\n",
    "- com essa informações começa o loop principal que continua até o tempo chegar em `max_iter`<br>\n",
    "o loop principal é dividido em quatro partes distintas:<br>\n",
    " primeiramente são calculados as próximas posições dos objetos, sua velocidade alterada pela fricção e se eles estiverem muito lentos a simulação para<br>\n",
    " o segundo passo é calcular todas as batidas entres os retângulos e as batidas com as bordas<br>\n",
    " o terceiro passo é ver se um retângulo não bater a sua posição e velocidade são alterados, se ele bater somente a velocidade, assim não é possível ter uma posição inválida.<br>\n",
    " finalmente as informações atuais saem com um cout de acordo com o `print_freq`"
   ]
  }
 ],
 "metadata": {
  "kernelspec": {
   "display_name": "Python 3",
   "language": "python",
   "name": "python3"
  },
  "language_info": {
   "codemirror_mode": {
    "name": "ipython",
    "version": 3
   },
   "file_extension": ".py",
   "mimetype": "text/x-python",
   "name": "python",
   "nbconvert_exporter": "python",
   "pygments_lexer": "ipython3",
   "version": "3.7.3"
  }
 },
 "nbformat": 4,
 "nbformat_minor": 4
}
