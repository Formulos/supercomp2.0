{
 "cells": [
  {
   "cell_type": "markdown",
   "metadata": {},
   "source": [
    "## Projeto 1- Simulaçao física com auto vetorização - Paulo Tozzo"
   ]
  },
  {
   "cell_type": "markdown",
   "metadata": {},
   "source": [
    "## O Problema\n",
    "\n",
    "Foi implementado uma simulação simples de choque elastico entre retangulos que estão dentro de um quadro tambem de forma retangular, esses retangulos podem se mover no eixo x e y e em caso de colisão ocore um choque perfeitamente elastico, tambem é possivel definir um atrito dinamico universal que irá a cada iteração diminuir a velocidade dos retangulos. Ao compilar o programa ouve uma tentativa de optimizar ele usando autovectorização do gcc."
   ]
  },
  {
   "cell_type": "code",
   "execution_count": 21,
   "metadata": {},
   "outputs": [],
   "source": [
    "import subprocess\n",
    "import numpy as np\n",
    "import matplotlib.pyplot as plt"
   ]
  },
  {
   "cell_type": "code",
   "execution_count": 34,
   "metadata": {},
   "outputs": [],
   "source": [
    "rand = np.random.randint\n",
    "f= open(\"rand_test\",\"w+\")\n",
    "f.write(\"20000 20000 0.1\"+\"\\n\")\n",
    "f.write(\"1000\"+\"\\n\")\n",
    "for i in range(1000):\n",
    "    f.write('{} {} {} {} {} {} {}'.format(rand(1,50),rand(2,10),rand(2,10),rand(11,19980),rand(11,19980),rand(-100,100),rand(-100,100))+\"\\n\")\n",
    "f.write(\"1 10000 10000\")\n",
    "f.close()"
   ]
  },
  {
   "cell_type": "markdown",
   "metadata": {},
   "source": [
    "## Descrição dos testes\n",
    "Foi realizado 2 testes de desempenho eles foram compilados de 4 formas diferentes, um usando a flag `O3` , outra `O0`, `O2` e o ultimo usando `O3 ftree-vectorize mavx ffast-math`, o primeiro teste realiza uma simulação simples, ja o segundo é mais compliacado e é usado para medir precisamente o tempo do codigo, que foi medido usando o `std::chrono::high_resolution_clock`. Para diminuir a variação de tempo os testes foi executados 100 vezes e foi feito a media. O computador que executou os testes tem como hardware releventa um processador Intel core i7-5500U CPU @ 2.40GHz"
   ]
  },
  {
   "cell_type": "markdown",
   "metadata": {},
   "source": [
    "## teste 1\n",
    "teste simples que retangulos colidem na diagonal e logo depois com a borda.\n"
   ]
  },
  {
   "cell_type": "code",
   "execution_count": 2,
   "metadata": {},
   "outputs": [],
   "source": [
    "with open('teste1', 'r') as file:\n",
    "    data = file.read().replace('\\n', ' ')\n",
    "    data = str.encode(data)\n",
    "\n",
    "time_main = [];\n",
    "time_fast = [];\n",
    "time_two = [];\n",
    "time_zero = [];\n",
    "\n",
    "for i in range(100):\n",
    "    main = subprocess.run([\"build/main\"],input = data,capture_output=True)\n",
    "    main_fast = subprocess.run([\"build/main_fast\"],input = data,capture_output=True)\n",
    "    main_two = subprocess.run([\"build/main_two\"],input = data,capture_output=True)\n",
    "    main_zero = subprocess.run([\"build/main_zero\"],input = data,capture_output=True)\n",
    "    \n",
    "    time_main.append(float((main.stderr).decode(\"utf-8\")))\n",
    "    time_fast.append(float((main_fast.stderr).decode(\"utf-8\")))\n",
    "    time_two.append(float((main_two.stderr).decode(\"utf-8\")))\n",
    "    time_zero.append(float((main_zero.stderr).decode(\"utf-8\")))"
   ]
  },
  {
   "cell_type": "code",
   "execution_count": 3,
   "metadata": {},
   "outputs": [
    {
     "data": {
      "image/png": "[encoded data removed]",
      "text/plain": [
       "<Figure size 864x360 with 1 Axes>"
      ]
     },
     "metadata": {
      "needs_background": "light"
     },
     "output_type": "display_data"
    }
   ],
   "source": [
    "x = np.arange(4)\n",
    "mean_list = [np.mean(time_main),np.mean(time_fast),np.mean(time_two),np.mean(time_zero)]\n",
    "\n",
    "fig, ax = plt.subplots(figsize=(12,5))\n",
    "plt.bar(x, mean_list, color = [\"blue\", \"green\", \"red\", \"yellow\"])\n",
    "plt.xticks(x, [\"O3\",\"fast\",\"O2\",\"O0\"])\n",
    "plt.ylabel(\"Tempo (s)\")\n",
    "plt.title(\"Teste 1\")\n",
    "plt.show()"
   ]
  },
  {
   "cell_type": "markdown",
   "metadata": {},
   "source": [
    "A barra verde chamda de fast é o executavel compilado com `O3 ftree-vectorize mavx ffast-math`"
   ]
  },
  {
   "cell_type": "markdown",
   "metadata": {},
   "source": [
    "## teste 2\n",
    "teste mais complexo que contem 13 retangulos com velocidades aleatórias e com um max_time alto. "
   ]
  },
  {
   "cell_type": "code",
   "execution_count": 4,
   "metadata": {},
   "outputs": [],
   "source": [
    "with open('final_test', 'r') as file:\n",
    "    data = file.read().replace('\\n', ' ')\n",
    "    data = str.encode(data)\n",
    "\n",
    "time_main = [];\n",
    "time_fast = [];\n",
    "time_two = [];\n",
    "time_zero = [];\n",
    "\n",
    "for i in range(100):\n",
    "    main = subprocess.run([\"build/main\"],input = data,capture_output=True)\n",
    "    main_fast = subprocess.run([\"build/main_fast\"],input = data,capture_output=True)\n",
    "    main_two = subprocess.run([\"build/main_two\"],input = data,capture_output=True)\n",
    "    main_zero = subprocess.run([\"build/main_zero\"],input = data,capture_output=True)\n",
    "    \n",
    "    time_main.append(float((main.stderr).decode(\"utf-8\")))\n",
    "    time_fast.append(float((main_fast.stderr).decode(\"utf-8\")))\n",
    "    time_two.append(float((main_two.stderr).decode(\"utf-8\")))\n",
    "    time_zero.append(float((main_zero.stderr).decode(\"utf-8\")))\n"
   ]
  },
  {
   "cell_type": "code",
   "execution_count": 5,
   "metadata": {},
   "outputs": [
    {
     "data": {
      "image/png": "[encoded data removed]",
      "text/plain": [
       "<Figure size 864x360 with 1 Axes>"
      ]
     },
     "metadata": {
      "needs_background": "light"
     },
     "output_type": "display_data"
    }
   ],
   "source": [
    "x = np.arange(4)\n",
    "mean_list = [np.mean(time_main),np.mean(time_fast),np.mean(time_two),np.mean(time_zero)]\n",
    "\n",
    "fig, ax = plt.subplots(figsize=(12,5))\n",
    "plt.bar(x, mean_list, color = [\"blue\", \"green\", \"red\", \"yellow\"])\n",
    "plt.xticks(x, [\"O3\",\"fast\",\"O2\",\"O0\"])\n",
    "plt.ylabel(\"Tempo (s)\")\n",
    "plt.title(\"Teste final\")\n",
    "plt.show()"
   ]
  },
  {
   "cell_type": "code",
   "execution_count": 31,
   "metadata": {},
   "outputs": [],
   "source": [
    "with open('true_test', 'r') as file:\n",
    "    data = file.read().replace('\\n', ' ')\n",
    "    data = str.encode(data)\n",
    "\n",
    "time_main = [];\n",
    "time_fast = [];\n",
    "time_two = [];\n",
    "time_zero = [];\n",
    "\n",
    "for i in range(10):\n",
    "    main = subprocess.run([\"build/main\"],input = data,capture_output=True)\n",
    "    main_fast = subprocess.run([\"build/main_fast\"],input = data,capture_output=True)\n",
    "    main_two = subprocess.run([\"build/main_two\"],input = data,capture_output=True)\n",
    "    main_zero = subprocess.run([\"build/main_zero\"],input = data,capture_output=True)\n",
    "    \n",
    "    time_main.append(float((main.stderr).decode(\"utf-8\")))\n",
    "    time_fast.append(float((main_fast.stderr).decode(\"utf-8\")))\n",
    "    time_two.append(float((main_two.stderr).decode(\"utf-8\")))\n",
    "    time_zero.append(float((main_zero.stderr).decode(\"utf-8\")))\n"
   ]
  },
  {
   "cell_type": "code",
   "execution_count": 33,
   "metadata": {},
   "outputs": [
    {
     "data": {
      "image/png": "[encoded data removed]",
      "text/plain": [
       "<Figure size 864x360 with 1 Axes>"
      ]
     },
     "metadata": {
      "needs_background": "light"
     },
     "output_type": "display_data"
    }
   ],
   "source": [
    "x = np.arange(4)\n",
    "mean_list = [np.mean(time_main),np.mean(time_fast),np.mean(time_two),np.mean(time_zero)]\n",
    "\n",
    "fig, ax = plt.subplots(figsize=(12,5))\n",
    "plt.bar(x, mean_list, color = [\"blue\", \"green\", \"red\", \"yellow\"])\n",
    "plt.xticks(x, [\"O3\",\"fast\",\"O2\",\"O0\"])\n",
    "plt.ylabel(\"Tempo (s)\")\n",
    "plt.title(\"Teste final\")\n",
    "plt.show()"
   ]
  },
  {
   "cell_type": "markdown",
   "metadata": {},
   "source": [
    "## Conclusão\n",
    "podemos ver que os tempos não tem uma alteração siginificativa, da maneira que o array foi implementado nesse codigo, usando um array de classes, o gcc não conseguiu auto vetorizar muitas operaçoes, usando a flag `-fopt-info-vec-all`, `-fopt-info-vec-missed`,`-fopt-info-vec-all` foi posivel ver que houve muita pouca auto vetorização."
   ]
  },
  {
   "cell_type": "markdown",
   "metadata": {},
   "source": [
    "- O codigo usa uma classe chamada square que pode ser encomtrada em square.cpp e square.hpp\n",
    "- primeiramente todos os inputs são lidos atravez do cin\n",
    "- com essa informaçoes começa o loop principal que continua até o tempo chegar em `max_iter`<br>\n",
    "o loop principal é divido em quatro partes distintas:<br>\n",
    " primeiramente são calculados as procimas posiçoes dos objetos, sua velocidade alterada pela fricção e se eles estiverem muito lentos a simulaçãp para<br>\n",
    " o segundo passo é calcular todas as batidas entres os retangulos e as batidas com as bordas<br>\n",
    " o terceiro passo é ver se um retangulo não bater a sua posição e velocidade são alterados, se ele bater somente a velocidade, assim não é possivel ter uma posição invalida.<br>\n",
    " finalmente as imformaçoes atuas saem com um cout de acordo com o `print_freq`"
   ]
  }
 ],
 "metadata": {
  "kernelspec": {
   "display_name": "Python 3",
   "language": "python",
   "name": "python3"
  },
  "language_info": {
   "codemirror_mode": {
    "name": "ipython",
    "version": 3
   },
   "file_extension": ".py",
   "mimetype": "text/x-python",
   "name": "python",
   "nbconvert_exporter": "python",
   "pygments_lexer": "ipython3",
   "version": "3.7.3"
  }
 },
 "nbformat": 4,
 "nbformat_minor": 4
}
