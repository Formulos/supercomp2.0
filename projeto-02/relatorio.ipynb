{
 "cells": [
  {
   "cell_type": "markdown",
   "metadata": {},
   "source": [
    "## Projeto 2- Paralelização do traveling salesman - Paulo Tozzo"
   ]
  },
  {
   "cell_type": "markdown",
   "metadata": {},
   "source": [
    "## O Problema\n",
    "\n",
    "O problema do caixeiro-viajante é um problema comum na área de logísticas, ele é basicamente: dado n pontos qual é o menor caminho que percorra todos esses pontos?. Esse problema é classificado como NP-completo, sua solução ótima é custosa em relação ao tempo,ja que ela é exponencial, assim a paralelização do código fornece respostas mais rápidas se comparadas com uma solução sequencial. Existem outras soluções que não retornam caminhos ótimos, e sim bons, porém são mais rápidas, duas dessas estão foram paralelizadas e também estão apresentadas."
   ]
  },
  {
   "cell_type": "code",
   "execution_count": 1,
   "metadata": {},
   "outputs": [],
   "source": [
    "import subprocess\n",
    "from subprocess import PIPE\n",
    "import numpy as np\n",
    "import matplotlib.pyplot as plt"
   ]
  },
  {
   "cell_type": "markdown",
   "metadata": {},
   "source": [
    "## Organização do codigo\n",
    "A solução ótima do traveling salmen é simples, ela simplesmente testar todas as possibilidades de caminho e acha a melhor delas, o codifo “tsp.cc” faz axatamente isso, usando recursão para seguir todos os pontos até não existirem mais nenhum, o código em paralelo cria uma task nova para cada possibilidade de caminho a partir do primeiro, então cada task resolve o resto do caminho de maneira sequencial, por exemplo para uma entrada de n=100 será criada 99 tasks. Ja o 2-opt criam caminhos randomicamente em paralelo, e depois mudam a sequência dos pontos até não ter melhora no custo total, e o último algoritmo, vizinhos mais próximos, simplesmente pegam o ponto mais próximo do atual, começando do zero, até todos os pontos acabarem."
   ]
  },
  {
   "cell_type": "markdown",
   "metadata": {},
   "source": [
    "## Descrição dos testes\n",
    "Foi realizado  testes 7 de desempenho, comparado a solução euxastiva paralela com a sequencial, também foi comparado o algoritmo 2-opt  com o algoritmo do vizinho mais próximo, esse são muito mais rapidos mas geram soluções sub-ótimas. Para medir o tempo foi usado `std::chrono::high_resolution_clock`, e para diminuir a variação de tempo os testes os testes foram executados múltiplas vezes e foi feita a média. O computador que executou os testes têm como hardware relevente um processador i7-8550U CPU @ 1.80GHz.\n",
    "É esperado que os arquivos compilados estajam em uma pasta chamada build.\n"
   ]
  },
  {
   "cell_type": "markdown",
   "metadata": {},
   "source": [
    "## teste 1\n",
    "teste simples que em que os três pontos formam um triângulo retângulo.\n"
   ]
  },
  {
   "cell_type": "code",
   "execution_count": 2,
   "metadata": {},
   "outputs": [],
   "source": [
    "with open('teste1.txt', 'r') as file:\n",
    "    data = file.read().replace('\\n', ' ')\n",
    "    data = str.encode(data)\n",
    "\n",
    "time_main = [];\n",
    "time_para = [];\n",
    "\n",
    "for i in range(100):\n",
    "    main = subprocess.run([\"build/seq\"],input = data,stderr=PIPE)\n",
    "    main_para = subprocess.run([\"build/para\"],input = data,stderr=PIPE)\n",
    "\n",
    "    time_main.append(float((main.stderr).decode(\"utf-8\")))\n",
    "    time_para.append(float((main_para.stderr).decode(\"utf-8\")))"
   ]
  },
  {
   "cell_type": "code",
   "execution_count": 3,
   "metadata": {},
   "outputs": [
    {
     "data": {
      "image/png": "[encoded data removed]",
      "text/plain": [
       "<Figure size 864x360 with 1 Axes>"
      ]
     },
     "metadata": {
      "needs_background": "light"
     },
     "output_type": "display_data"
    }
   ],
   "source": [
    "x = np.arange(2)\n",
    "mean_list = [np.mean(time_main),np.mean(time_para)]\n",
    "\n",
    "fig, ax = plt.subplots(figsize=(12,5))\n",
    "plt.bar(x, mean_list, color = [\"blue\", \"green\"])\n",
    "plt.xticks(x, [\"sequencial\",\"paralelo\"])\n",
    "plt.ylabel(\"Tempo (s)\")\n",
    "plt.title(\"Teste 1 N=3\")\n",
    "plt.show()"
   ]
  },
  {
   "cell_type": "markdown",
   "metadata": {},
   "source": [
    "## teste 2\n",
    "teste mais complexo que contem 10 pontos aleatoriamente gerados usando o programa \"gerador.py\". "
   ]
  },
  {
   "cell_type": "code",
   "execution_count": 4,
   "metadata": {},
   "outputs": [],
   "source": [
    "with open('teste3.txt', 'r') as file:\n",
    "    data = file.read().replace('\\n', ' ')\n",
    "    data = str.encode(data)\n",
    "\n",
    "time_main = [];\n",
    "time_para = [];\n",
    "\n",
    "for i in range(10):\n",
    "    main = subprocess.run([\"build/seq\"],input = data,stderr=PIPE)\n",
    "    main_para = subprocess.run([\"build/para\"],input = data,stderr=PIPE)\n",
    "\n",
    "    time_main.append(float((main.stderr).decode(\"utf-8\")))\n",
    "    time_para.append(float((main_para.stderr).decode(\"utf-8\")))"
   ]
  },
  {
   "cell_type": "code",
   "execution_count": 5,
   "metadata": {},
   "outputs": [
    {
     "data": {
      "image/png": "[encoded data removed]",
      "text/plain": [
       "<Figure size 864x360 with 1 Axes>"
      ]
     },
     "metadata": {
      "needs_background": "light"
     },
     "output_type": "display_data"
    }
   ],
   "source": [
    "x = np.arange(2)\n",
    "mean_list = [np.mean(time_main),np.mean(time_para)]\n",
    "\n",
    "fig, ax = plt.subplots(figsize=(12,5))\n",
    "plt.bar(x, mean_list, color = [\"blue\", \"green\"])\n",
    "plt.xticks(x, [\"sequencial\",\"paralelo\"])\n",
    "plt.ylabel(\"Tempo (s)\")\n",
    "plt.title(\"Teste 1 N=10\")\n",
    "plt.show()"
   ]
  },
  {
   "cell_type": "markdown",
   "metadata": {},
   "source": [
    "## teste 3\n",
    "teste que contem 13 pontos aleatoriamente gerados usando o programa \"gerador.py\". "
   ]
  },
  {
   "cell_type": "code",
   "execution_count": 6,
   "metadata": {},
   "outputs": [],
   "source": [
    "with open('teste4.txt', 'r') as file:\n",
    "    data = file.read().replace('\\n', ' ')\n",
    "    data = str.encode(data)\n",
    "\n",
    "time_main = [];\n",
    "time_para = [];\n",
    "\n",
    "for i in range(2):\n",
    "    main = subprocess.run([\"build/seq\"],input = data,stderr=PIPE)\n",
    "    main_para = subprocess.run([\"build/para\"],input = data,stderr=PIPE)\n",
    "\n",
    "    time_main.append(float((main.stderr).decode(\"utf-8\")))\n",
    "    time_para.append(float((main_para.stderr).decode(\"utf-8\")))\n"
   ]
  },
  {
   "cell_type": "code",
   "execution_count": 7,
   "metadata": {},
   "outputs": [
    {
     "data": {
      "image/png": "[encoded data removed]",
      "text/plain": [
       "<Figure size 864x360 with 1 Axes>"
      ]
     },
     "metadata": {
      "needs_background": "light"
     },
     "output_type": "display_data"
    }
   ],
   "source": [
    "x = np.arange(2)\n",
    "mean_list = [np.mean(time_main),np.mean(time_para)]\n",
    "\n",
    "fig, ax = plt.subplots(figsize=(12,5))\n",
    "plt.bar(x, mean_list, color = [\"blue\", \"green\"])\n",
    "plt.xticks(x, [\"sequencial\",\"paralelo\"])\n",
    "plt.ylabel(\"Tempo (s)\")\n",
    "plt.title(\"Teste 1 N=13\")\n",
    "plt.show()"
   ]
  },
  {
   "cell_type": "markdown",
   "metadata": {},
   "source": [
    "## heuristic search e 2-opt\n",
    "Foram feitos testes com versões paralelas do algoritmo 2-opt e o algoritmo do vizinho mais próximo eles não geram soluções ótimas mas são muito mais rápidos em comparação, geralmente o 2-opt gera soluçoes melhores porem é mais devegar.\n"
   ]
  },
  {
   "cell_type": "markdown",
   "metadata": {},
   "source": [
    "## teste 4\n",
    "Com o n=13 o tempode que demora é de milisegundos"
   ]
  },
  {
   "cell_type": "code",
   "execution_count": 8,
   "metadata": {},
   "outputs": [],
   "source": [
    "with open('teste4.txt', 'r') as file:\n",
    "    data = file.read().replace('\\n', ' ')\n",
    "    data = str.encode(data)\n",
    "\n",
    "time_main = [];\n",
    "time_para = [];\n",
    "\n",
    "for i in range(10):\n",
    "    main = subprocess.run([\"build/heuristic\"],input = data,stderr=PIPE)\n",
    "    main_para = subprocess.run([\"build/opt\"],input = data,stderr=PIPE)\n",
    "\n",
    "    time_main.append(float((main.stderr).decode(\"utf-8\")))\n",
    "    time_para.append(float((main_para.stderr).decode(\"utf-8\")))"
   ]
  },
  {
   "cell_type": "code",
   "execution_count": 9,
   "metadata": {},
   "outputs": [
    {
     "data": {
      "image/png": "[encoded data removed]",
      "text/plain": [
       "<Figure size 864x360 with 1 Axes>"
      ]
     },
     "metadata": {
      "needs_background": "light"
     },
     "output_type": "display_data"
    }
   ],
   "source": [
    "x = np.arange(2)\n",
    "mean_list = [np.mean(time_main),np.mean(time_para)]\n",
    "\n",
    "fig, ax = plt.subplots(figsize=(12,5))\n",
    "plt.bar(x, mean_list, color = [\"blue\", \"green\"])\n",
    "plt.xticks(x, [\"heuristica\",\"opt\"])\n",
    "plt.ylabel(\"Tempo (s)\")\n",
    "plt.title(\"Teste 1 N=13\")\n",
    "plt.show()"
   ]
  },
  {
   "cell_type": "markdown",
   "metadata": {},
   "source": [
    "## teste 5\n",
    "Teste com N=52"
   ]
  },
  {
   "cell_type": "code",
   "execution_count": 10,
   "metadata": {},
   "outputs": [],
   "source": [
    "with open('largetest.txt', 'r') as file:\n",
    "    data = file.read().replace('\\n', ' ')\n",
    "    data = str.encode(data)\n",
    "\n",
    "time_main = [];\n",
    "time_para = [];\n",
    "\n",
    "for i in range(10):\n",
    "    main = subprocess.run([\"build/heuristic\"],input = data,stderr=PIPE)\n",
    "    main_para = subprocess.run([\"build/opt\"],input = data,stderr=PIPE)\n",
    "\n",
    "    time_main.append(float((main.stderr).decode(\"utf-8\")))\n",
    "    time_para.append(float((main_para.stderr).decode(\"utf-8\")))\n"
   ]
  },
  {
   "cell_type": "code",
   "execution_count": 11,
   "metadata": {},
   "outputs": [
    {
     "data": {
      "image/png": "[encoded data removed]",
      "text/plain": [
       "<Figure size 864x360 with 1 Axes>"
      ]
     },
     "metadata": {
      "needs_background": "light"
     },
     "output_type": "display_data"
    }
   ],
   "source": [
    "x = np.arange(2)\n",
    "mean_list = [np.mean(time_main),np.mean(time_para)]\n",
    "\n",
    "fig, ax = plt.subplots(figsize=(12,5))\n",
    "plt.bar(x, mean_list, color = [\"blue\", \"green\"])\n",
    "plt.xticks(x, [\"heuristica\",\"opt\"])\n",
    "plt.ylabel(\"Tempo (s)\")\n",
    "plt.title(\"Teste 1 N=52\")\n",
    "plt.show()"
   ]
  },
  {
   "cell_type": "markdown",
   "metadata": {},
   "source": [
    "## teste 6\n",
    "Esse teste usa n=10000 ele compara a heurisca paralela e sequencial"
   ]
  },
  {
   "cell_type": "code",
   "execution_count": 12,
   "metadata": {},
   "outputs": [],
   "source": [
    "with open('superlargetest.txt', 'r') as file:\n",
    "    data = file.read().replace('\\n', ' ')\n",
    "    data = str.encode(data)\n",
    "\n",
    "time_main = [];\n",
    "time_para = [];\n",
    "\n",
    "for i in range(20):\n",
    "    main = subprocess.run([\"build/heuristic\"],input = data,stderr=PIPE)\n",
    "    main_para = subprocess.run([\"build/heuristic_seq\"],input = data,stderr=PIPE)\n",
    "\n",
    "    time_main.append(float((main.stderr).decode(\"utf-8\")))\n",
    "    time_para.append(float((main_para.stderr).decode(\"utf-8\")))"
   ]
  },
  {
   "cell_type": "code",
   "execution_count": 13,
   "metadata": {},
   "outputs": [
    {
     "data": {
      "image/png": "[encoded data removed]",
      "text/plain": [
       "<Figure size 864x360 with 1 Axes>"
      ]
     },
     "metadata": {
      "needs_background": "light"
     },
     "output_type": "display_data"
    }
   ],
   "source": [
    "x = np.arange(2)\n",
    "mean_list = [np.mean(time_main),np.mean(time_para)]\n",
    "\n",
    "fig, ax = plt.subplots(figsize=(12,5))\n",
    "plt.bar(x, mean_list, color = [\"blue\", \"green\"])\n",
    "plt.xticks(x, [\"heuristica paralelo \",\"heuristica sequencial\"])\n",
    "plt.ylabel(\"Tempo (s)\")\n",
    "plt.title(\"Teste 1 N=10000\")\n",
    "plt.show()"
   ]
  },
  {
   "cell_type": "markdown",
   "metadata": {},
   "source": [
    "## teste 7\n",
    "Esse teste usa n=52 ele compara a opt paralelo e sequencial"
   ]
  },
  {
   "cell_type": "code",
   "execution_count": 14,
   "metadata": {},
   "outputs": [],
   "source": [
    "with open('largetest.txt', 'r') as file:\n",
    "    data = file.read().replace('\\n', ' ')\n",
    "    data = str.encode(data)\n",
    "\n",
    "time_main = [];\n",
    "time_para = [];\n",
    "\n",
    "for i in range(2):\n",
    "    main = subprocess.run([\"build/opt\"],input = data,stderr=PIPE)\n",
    "    main_para = subprocess.run([\"build/opt_seq\"],input = data,stderr=PIPE)\n",
    "\n",
    "    time_main.append(float((main.stderr).decode(\"utf-8\")))\n",
    "    time_para.append(float((main_para.stderr).decode(\"utf-8\")))"
   ]
  },
  {
   "cell_type": "code",
   "execution_count": 16,
   "metadata": {},
   "outputs": [
    {
     "data": {
      "image/png": "[encoded data removed]",
      "text/plain": [
       "<Figure size 864x360 with 1 Axes>"
      ]
     },
     "metadata": {
      "needs_background": "light"
     },
     "output_type": "display_data"
    }
   ],
   "source": [
    "x = np.arange(2)\n",
    "mean_list = [np.mean(time_main),np.mean(time_para)]\n",
    "\n",
    "fig, ax = plt.subplots(figsize=(12,5))\n",
    "plt.bar(x, mean_list, color = [\"blue\", \"green\"])\n",
    "plt.xticks(x, [\"opt paralelo \",\"opt sequencial\"])\n",
    "plt.ylabel(\"Tempo (s)\")\n",
    "plt.title(\"Teste 1 N=52\")\n",
    "plt.show()"
   ]
  },
  {
   "cell_type": "code",
   "execution_count": null,
   "metadata": {},
   "outputs": [],
   "source": []
  }
 ],
 "metadata": {
  "kernelspec": {
   "display_name": "Python 3",
   "language": "python",
   "name": "python3"
  },
  "language_info": {
   "codemirror_mode": {
    "name": "ipython",
    "version": 3
   },
   "file_extension": ".py",
   "mimetype": "text/x-python",
   "name": "python",
   "nbconvert_exporter": "python",
   "pygments_lexer": "ipython3",
   "version": "3.6.8"
  }
 },
 "nbformat": 4,
 "nbformat_minor": 4
}
